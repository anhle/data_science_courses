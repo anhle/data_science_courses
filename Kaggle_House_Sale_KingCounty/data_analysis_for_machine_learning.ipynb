{
 "cells": [
  {
   "cell_type": "markdown",
   "metadata": {},
   "source": [
    "# Data Analysis for Machine Learning\n",
    "We'll work with a Kaggle dataset: __[House Sales in King County, USA](https://www.kaggle.com/harlfoxem/housesalesprediction)__\n",
    "\n",
    "This dataset contains house sale prices for King County, which includes Seattle. It includes homes sold between May 2014 and May 2015.\n",
    "\n",
    "It's a great dataset for evaluating simple regression models.\n",
    "\n",
    "19 house features plus the price and the id columns, along with 21613 observations.\n",
    "\n",
    "These are the features of the dataset:\n",
    "\n",
    "- id: a notation for a house\n",
    "- date: Date house was sold\n",
    "- price: Price is prediction target\n",
    "- bedrooms: Number of Bedrooms/House\n",
    "- bathrooms: Number of bathrooms/bedrooms\n",
    "- sqft_living: square footage of the home\n",
    "- sqft_lot: square footage of the lot\n",
    "- floors: Total floors (levels) in house\n",
    "- waterfront: House which has a view to a waterfront\n",
    "- view: Has been viewed\n",
    "- condition: How good the condition is ( Overall )\n",
    "- grade: overall grade given to the housing unit, based on King County grading system\n",
    "- sqft_above: square footage of house apart from basement\n",
    "- sqft_basement: square footage of the basement\n",
    "- yr_built: Built Year\n",
    "- yr_renovated: Year when house was renovated\n",
    "- zipcode: zip\n",
    "- lat: Latitude coordinate\n",
    "- long: Longitude coordinate\n",
    "- sqft_living15: Living room area in 2015(implies-- some renovations) This might or might not have affected the lotsize area\n",
    "- sqft_lot15: lotSize area in 2015(implies-- some renovations)"
   ]
  },
  {
   "cell_type": "code",
   "execution_count": null,
   "metadata": {},
   "outputs": [],
   "source": [
    "# DON'T DO THIS!\n",
    "#!pip install sklearn_pandas"
   ]
  },
  {
   "cell_type": "code",
   "execution_count": null,
   "metadata": {},
   "outputs": [],
   "source": [
    "#Importing the required libraries\n",
    "import numpy as np\n",
    "import pandas as pd\n",
    "\n",
    "import seaborn as sns\n",
    "import matplotlib.pyplot as plt\n",
    "\n",
    "from sklearn.linear_model import LinearRegression\n",
    "from sklearn.model_selection import train_test_split\n",
    "\n",
    "pd.set_option('display.max_columns', None)\n",
    "%matplotlib inline\n",
    "\n",
    "from sklearn import preprocessing\n",
    "from sklearn_pandas import DataFrameMapper"
   ]
  },
  {
   "cell_type": "markdown",
   "metadata": {},
   "source": [
    "## Exploratory Data Analysis\n",
    "loading the dataframe"
   ]
  },
  {
   "cell_type": "code",
   "execution_count": null,
   "metadata": {},
   "outputs": [],
   "source": [
    "df = pd.read_csv('kc_house_data.csv')\n",
    "df.head()"
   ]
  },
  {
   "cell_type": "markdown",
   "metadata": {},
   "source": [
    "## Step 1: Cleaning data: we have loaded the data correctly and we have valid values"
   ]
  },
  {
   "cell_type": "code",
   "execution_count": null,
   "metadata": {},
   "outputs": [],
   "source": [
    "df.shape"
   ]
  },
  {
   "cell_type": "markdown",
   "metadata": {},
   "source": [
    "we know that there are 21,613 rows, with 21 columns (features). Let's check for red flags on those features:"
   ]
  },
  {
   "cell_type": "code",
   "execution_count": null,
   "metadata": {},
   "outputs": [],
   "source": [
    "df.info()"
   ]
  },
  {
   "cell_type": "markdown",
   "metadata": {},
   "source": [
    "info gives you a quick summary of both the type and the count for each column. In this case the data seems correct, there are no missing values and the types are correct."
   ]
  },
  {
   "cell_type": "markdown",
   "metadata": {},
   "source": [
    "## Step 2: High level Feature Selection\n",
    "Our objective is to predict the price of a house based on the features that we know about the house. For example, we know that a larger surface area and more bedrooms will relate with a highest price. But what about the id of the house? It's probably just an internal ID and is not affecting the real price.\n",
    "\n",
    "That is feature selection, understanding what features are important to the ML model.\n",
    "\n",
    "With pandas is extremely simple to exclude columns:"
   ]
  },
  {
   "cell_type": "code",
   "execution_count": null,
   "metadata": {},
   "outputs": [],
   "source": [
    "df.drop(columns=['id']).head()"
   ]
  },
  {
   "cell_type": "markdown",
   "metadata": {},
   "source": [
    "What other variables would you exclude? For this workshop, we'll exclude date, lat and long. We could have done a better analysis for lat and long, but with zipcode it's probably enough."
   ]
  },
  {
   "cell_type": "code",
   "execution_count": null,
   "metadata": {},
   "outputs": [],
   "source": [
    "df.drop(columns=['id', 'date', 'lat', 'long'], inplace=True)"
   ]
  },
  {
   "cell_type": "markdown",
   "metadata": {},
   "source": [
    "## Step 3: Correlation between variables\n",
    "Some variables will have higher (positive or negative) correlation with the price. We know that the surface area of a house is positively correlated with its price: the larger the house, a higher price. But what about others? We can build a simple correlation plot to understand a little bit better the relationship between different variables:"
   ]
  },
  {
   "cell_type": "code",
   "execution_count": null,
   "metadata": {},
   "outputs": [],
   "source": [
    "df.corr()"
   ]
  },
  {
   "cell_type": "markdown",
   "metadata": {},
   "source": [
    "### So, for example, we can see that sqft_living is highly correlated with the price:"
   ]
  },
  {
   "cell_type": "code",
   "execution_count": null,
   "metadata": {},
   "outputs": [],
   "source": [
    "df.corr().loc['sqft_living', 'price']"
   ]
  },
  {
   "cell_type": "markdown",
   "metadata": {},
   "source": [
    "We'll use a simple visualization mechanism to have a visual clue about these variables and their correlation:"
   ]
  },
  {
   "cell_type": "code",
   "execution_count": null,
   "metadata": {},
   "outputs": [],
   "source": [
    "corr = df.corr()\n",
    "mask = np.zeros_like(corr, dtype=np.bool)\n",
    "mask[np.triu_indices_from(mask)] = True\n",
    "\n",
    "fig, ax = plt.subplots(figsize=(11, 9))\n",
    "cmap = sns.diverging_palette(220, 10, as_cmap=True)\n",
    "sns.heatmap(corr, mask=mask, cmap=cmap, vmax=.3, center=0,\n",
    "            square=True, linewidths=.5, cbar_kws={\"shrink\": .5})"
   ]
  },
  {
   "cell_type": "markdown",
   "metadata": {},
   "source": [
    "We see some strange patterns, like for example, the apparent \"negative\" correlation between zipcode and price. Something that doesn't make any sense. We'll talk more about this when we explore zipcode as a categorical feature later.\n",
    "\n",
    "Once we identify correlation between different variables, we can explore how they're correlated. For example, we saw sqft_living and price:"
   ]
  },
  {
   "cell_type": "code",
   "execution_count": null,
   "metadata": {},
   "outputs": [],
   "source": [
    "df.plot(x='sqft_living', y='price', kind='scatter', figsize=(12, 7))"
   ]
  },
  {
   "cell_type": "markdown",
   "metadata": {},
   "source": [
    "### What about grade and price?"
   ]
  },
  {
   "cell_type": "code",
   "execution_count": null,
   "metadata": {},
   "outputs": [],
   "source": [
    "df.corr().loc['grade', 'price']"
   ]
  },
  {
   "cell_type": "code",
   "execution_count": null,
   "metadata": {},
   "outputs": [],
   "source": [
    "### They also seem strongly correlated, but, are they just linearly correlated?"
   ]
  },
  {
   "cell_type": "code",
   "execution_count": null,
   "metadata": {},
   "outputs": [],
   "source": [
    "df.plot(x='grade', y='price', kind='scatter', figsize=(12, 5))"
   ]
  },
  {
   "cell_type": "markdown",
   "metadata": {},
   "source": [
    "Doesn't seem so, or at least it's not as clear as with sqft_living. There seems to be some sort of polynomic relationship. We can use a logarithmic y axis to test:"
   ]
  },
  {
   "cell_type": "code",
   "execution_count": null,
   "metadata": {},
   "outputs": [],
   "source": [
    "df.plot(x='grade', y='price', kind='scatter', figsize=(12, 7), logy=True)"
   ]
  },
  {
   "cell_type": "markdown",
   "metadata": {},
   "source": [
    "## Step 4: More cleaning, identifying outliers\n",
    "Linear regression (along with other ML models) will be really sensitive to outliers:"
   ]
  },
  {
   "cell_type": "code",
   "execution_count": null,
   "metadata": {},
   "outputs": [],
   "source": [
    "df.describe()"
   ]
  },
  {
   "cell_type": "markdown",
   "metadata": {},
   "source": [
    "A house with 33 bedrooms? There's something going on here:"
   ]
  },
  {
   "cell_type": "code",
   "execution_count": null,
   "metadata": {},
   "outputs": [],
   "source": [
    "fig, ax = plt.subplots(figsize=(15, 7))\n",
    "sns.boxplot(data=df[['bedrooms', 'bathrooms']], orient=\"h\", palette=\"Set2\")"
   ]
  },
  {
   "cell_type": "code",
   "execution_count": null,
   "metadata": {},
   "outputs": [],
   "source": [
    "df[df['bedrooms'] == 33]"
   ]
  },
  {
   "cell_type": "code",
   "execution_count": null,
   "metadata": {},
   "outputs": [],
   "source": [
    "df.drop(15870, inplace=True)"
   ]
  },
  {
   "cell_type": "markdown",
   "metadata": {},
   "source": [
    "Now, what about those properties without bathrooms? That is strange, let's take a look:"
   ]
  },
  {
   "cell_type": "code",
   "execution_count": null,
   "metadata": {},
   "outputs": [],
   "source": [
    "df[df['bathrooms'] == 0]"
   ]
  },
  {
   "cell_type": "markdown",
   "metadata": {},
   "source": [
    "Now that we look at it it makes a little bit more sense. Maybe those are just warehouses or other type of storage unit facilities? Without more information is now difficult to make a decision. This is an important lesson: domain expertise is fundamental when analyzing data\n",
    "\n",
    "I'll not remove any house for now.\n",
    "\n",
    "How are other variables doing?"
   ]
  },
  {
   "cell_type": "markdown",
   "metadata": {},
   "source": [
    "## Step 5: Dummy variables\n",
    "The zipcode feature imposes an issue. Machine learning models, don't understand \"human\" features like zipcode. For a ML algorithm, a value of 98178 in zipcode is \"greater\" than 98125, even though for us, knowing the area, the zipcode 98125 might have more expensive houses. These are the zipcodes in our dataset:"
   ]
  },
  {
   "cell_type": "code",
   "execution_count": null,
   "metadata": {},
   "outputs": [],
   "source": [
    "df['zipcode'].unique()"
   ]
  },
  {
   "cell_type": "code",
   "execution_count": null,
   "metadata": {},
   "outputs": [],
   "source": [
    "df['zipcode'].value_counts()"
   ]
  },
  {
   "cell_type": "markdown",
   "metadata": {},
   "source": [
    "Dummy variables is the correct way to feed a ML model a categorical feature. We'll see how to combine these later."
   ]
  },
  {
   "cell_type": "code",
   "execution_count": null,
   "metadata": {},
   "outputs": [],
   "source": [
    "pd.get_dummies(df['zipcode'])"
   ]
  },
  {
   "cell_type": "markdown",
   "metadata": {},
   "source": [
    "## Step 6: Feature scaling and normalization\n",
    "There's a final IMPORTANT point to discuss, and that is \"scaling\" and \"normalizing\" features. It has a mathematical explanation, but basically, what we DON'T want is to have features that are in completely different units. For example:"
   ]
  },
  {
   "cell_type": "code",
   "execution_count": null,
   "metadata": {},
   "outputs": [],
   "source": [
    "df[['bedrooms', 'sqft_living']].head()"
   ]
  },
  {
   "cell_type": "markdown",
   "metadata": {},
   "source": [
    "The values here are too dissimilars, which will make some algorithms perform poorly and slower. We'll then \"scale\" these features to remove the unit. Read more here: __[Importance of Feature Scaling](http://scikit-learn.org/stable/auto_examples/preprocessing/plot_scaling_importance.html)__"
   ]
  },
  {
   "cell_type": "code",
   "execution_count": null,
   "metadata": {},
   "outputs": [],
   "source": [
    "from sklearn.preprocessing import StandardScaler\n",
    "scaler = preprocessing.StandardScaler().fit(df[['bedrooms', 'sqft_living']].head())\n",
    "scaler.transform(df[['bedrooms', 'sqft_living']].head())"
   ]
  },
  {
   "cell_type": "markdown",
   "metadata": {},
   "source": [
    "## Step 7: Putting it all together¶\n"
   ]
  },
  {
   "cell_type": "code",
   "execution_count": null,
   "metadata": {},
   "outputs": [],
   "source": [
    "ScalerClass = preprocessing.StandardScaler\n",
    "mapper = DataFrameMapper([\n",
    "    (['bedrooms'], ScalerClass()),\n",
    "    (['bathrooms'], ScalerClass()),\n",
    "    (['sqft_living'], ScalerClass()),\n",
    "    (['sqft_lot'], ScalerClass()),\n",
    "    (['floors'], ScalerClass()),\n",
    "    (['condition'], ScalerClass()),\n",
    "    (['grade'], ScalerClass()),\n",
    "    (['sqft_above'], ScalerClass()),\n",
    "    (['sqft_basement'], ScalerClass()),\n",
    "    (['sqft_living15'], ScalerClass()),\n",
    "    (['sqft_lot15'], ScalerClass()),\n",
    "\n",
    "    ('zipcode', preprocessing.LabelBinarizer()),\n",
    "    ('yr_built', None),\n",
    "    ('yr_renovated', None),\n",
    "\n",
    "    ('waterfront', None),\n",
    "    ('view', None)    \n",
    "])\n",
    "X_train, X_test, y_train, y_test = train_test_split(\n",
    "    mapper.fit_transform(df.drop(columns=['price'])), df['price'], test_size=0.3, random_state=10)"
   ]
  },
  {
   "cell_type": "markdown",
   "metadata": {},
   "source": [
    "Let's see now how our Linear Regression is performing with these simple modifications:"
   ]
  },
  {
   "cell_type": "code",
   "execution_count": null,
   "metadata": {},
   "outputs": [],
   "source": [
    "model = LinearRegression()\n",
    "model.fit(X_train, y_train)\n",
    "model.score(X_test, y_test)"
   ]
  },
  {
   "cell_type": "code",
   "execution_count": null,
   "metadata": {},
   "outputs": [],
   "source": []
  }
 ],
 "metadata": {
  "kernelspec": {
   "display_name": "Python 3",
   "language": "python",
   "name": "python3"
  },
  "language_info": {
   "codemirror_mode": {
    "name": "ipython",
    "version": 3
   },
   "file_extension": ".py",
   "mimetype": "text/x-python",
   "name": "python",
   "nbconvert_exporter": "python",
   "pygments_lexer": "ipython3",
   "version": "3.6.8"
  }
 },
 "nbformat": 4,
 "nbformat_minor": 2
}
